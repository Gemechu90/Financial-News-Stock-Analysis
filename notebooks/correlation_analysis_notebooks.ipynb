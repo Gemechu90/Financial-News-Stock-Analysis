{
 "cells": [
  {
   "cell_type": "markdown",
   "metadata": {},
   "source": [
    "## Financial News and Stock Price Integration\n",
    " This notebook shows the relationship between financial news data and stock market returns through Natural Language Processing (NLP) techniques\n",
    "\n",
    "Tasks: \n",
    "    1. Date Alignment: aligning the stock data with news data based on dates to correlate market movements with news sentiment.\n",
    "    2. Sentiment Analysis: Conducting sentiment analysis on news headlines to quantify the tone of each article (positive, negative, neutral).\n",
    "    \n",
    "    Analysis:\n",
    "        - Calculate Daily Stock Returns: Computing the percentage change in daily closing prices to represent stock  movements.\n",
    "        Correlation Analysis: Using statistical methods to test the correlation between daily news sentiment scores and stock returns."
   ]
  },
  {
   "cell_type": "code",
   "execution_count": 1,
   "metadata": {},
   "outputs": [],
   "source": [
    "import sys\n",
    "import os"
   ]
  },
  {
   "cell_type": "code",
   "execution_count": 2,
   "metadata": {},
   "outputs": [],
   "source": [
    "sys.path.append(os.path.abspath(os.path.join('..')))"
   ]
  },
  {
   "cell_type": "code",
   "execution_count": 6,
   "metadata": {},
   "outputs": [],
   "source": [
    "from scripts.sentiment_correlation_analysis import *"
   ]
  },
  {
   "cell_type": "code",
   "execution_count": 7,
   "metadata": {},
   "outputs": [],
   "source": [
    "# Load and stock and news data\n",
    "data_directory = \"../data/yfinance_data/\"  \n",
    "stock_data = merge_stocks(data_directory)\n",
    "\n",
    "news_data=pd.read_csv('../data/raw_analyst_ratings.csv')"
   ]
  },
  {
   "cell_type": "markdown",
   "metadata": {},
   "source": [
    "### Descriptive Statistics"
   ]
  },
  {
   "cell_type": "code",
   "execution_count": 8,
   "metadata": {},
   "outputs": [
    {
     "data": {
      "text/html": [
       "<div>\n",
       "<style scoped>\n",
       "    .dataframe tbody tr th:only-of-type {\n",
       "        vertical-align: middle;\n",
       "    }\n",
       "\n",
       "    .dataframe tbody tr th {\n",
       "        vertical-align: top;\n",
       "    }\n",
       "\n",
       "    .dataframe thead th {\n",
       "        text-align: right;\n",
       "    }\n",
       "</style>\n",
       "<table border=\"1\" class=\"dataframe\">\n",
       "  <thead>\n",
       "    <tr style=\"text-align: right;\">\n",
       "      <th></th>\n",
       "      <th>Date</th>\n",
       "      <th>Open</th>\n",
       "      <th>High</th>\n",
       "      <th>Low</th>\n",
       "      <th>Close</th>\n",
       "      <th>Adj Close</th>\n",
       "      <th>Volume</th>\n",
       "      <th>Dividends</th>\n",
       "      <th>Stock Splits</th>\n",
       "      <th>Stock</th>\n",
       "    </tr>\n",
       "  </thead>\n",
       "  <tbody>\n",
       "    <tr>\n",
       "      <th>0</th>\n",
       "      <td>1980-12-12</td>\n",
       "      <td>0.128348</td>\n",
       "      <td>0.128906</td>\n",
       "      <td>0.128348</td>\n",
       "      <td>0.128348</td>\n",
       "      <td>0.098943</td>\n",
       "      <td>469033600</td>\n",
       "      <td>0.0</td>\n",
       "      <td>0.0</td>\n",
       "      <td>AAPL</td>\n",
       "    </tr>\n",
       "    <tr>\n",
       "      <th>1</th>\n",
       "      <td>1980-12-15</td>\n",
       "      <td>0.122210</td>\n",
       "      <td>0.122210</td>\n",
       "      <td>0.121652</td>\n",
       "      <td>0.121652</td>\n",
       "      <td>0.093781</td>\n",
       "      <td>175884800</td>\n",
       "      <td>0.0</td>\n",
       "      <td>0.0</td>\n",
       "      <td>AAPL</td>\n",
       "    </tr>\n",
       "    <tr>\n",
       "      <th>2</th>\n",
       "      <td>1980-12-16</td>\n",
       "      <td>0.113281</td>\n",
       "      <td>0.113281</td>\n",
       "      <td>0.112723</td>\n",
       "      <td>0.112723</td>\n",
       "      <td>0.086898</td>\n",
       "      <td>105728000</td>\n",
       "      <td>0.0</td>\n",
       "      <td>0.0</td>\n",
       "      <td>AAPL</td>\n",
       "    </tr>\n",
       "    <tr>\n",
       "      <th>3</th>\n",
       "      <td>1980-12-17</td>\n",
       "      <td>0.115513</td>\n",
       "      <td>0.116071</td>\n",
       "      <td>0.115513</td>\n",
       "      <td>0.115513</td>\n",
       "      <td>0.089049</td>\n",
       "      <td>86441600</td>\n",
       "      <td>0.0</td>\n",
       "      <td>0.0</td>\n",
       "      <td>AAPL</td>\n",
       "    </tr>\n",
       "    <tr>\n",
       "      <th>4</th>\n",
       "      <td>1980-12-18</td>\n",
       "      <td>0.118862</td>\n",
       "      <td>0.119420</td>\n",
       "      <td>0.118862</td>\n",
       "      <td>0.118862</td>\n",
       "      <td>0.091630</td>\n",
       "      <td>73449600</td>\n",
       "      <td>0.0</td>\n",
       "      <td>0.0</td>\n",
       "      <td>AAPL</td>\n",
       "    </tr>\n",
       "  </tbody>\n",
       "</table>\n",
       "</div>"
      ],
      "text/plain": [
       "        Date      Open      High       Low     Close  Adj Close     Volume  \\\n",
       "0 1980-12-12  0.128348  0.128906  0.128348  0.128348   0.098943  469033600   \n",
       "1 1980-12-15  0.122210  0.122210  0.121652  0.121652   0.093781  175884800   \n",
       "2 1980-12-16  0.113281  0.113281  0.112723  0.112723   0.086898  105728000   \n",
       "3 1980-12-17  0.115513  0.116071  0.115513  0.115513   0.089049   86441600   \n",
       "4 1980-12-18  0.118862  0.119420  0.118862  0.118862   0.091630   73449600   \n",
       "\n",
       "   Dividends  Stock Splits Stock  \n",
       "0        0.0           0.0  AAPL  \n",
       "1        0.0           0.0  AAPL  \n",
       "2        0.0           0.0  AAPL  \n",
       "3        0.0           0.0  AAPL  \n",
       "4        0.0           0.0  AAPL  "
      ]
     },
     "execution_count": 8,
     "metadata": {},
     "output_type": "execute_result"
    }
   ],
   "source": [
    "stock_data.head()"
   ]
  },
  {
   "cell_type": "code",
   "execution_count": 9,
   "metadata": {},
   "outputs": [
    {
     "data": {
      "text/html": [
       "<div>\n",
       "<style scoped>\n",
       "    .dataframe tbody tr th:only-of-type {\n",
       "        vertical-align: middle;\n",
       "    }\n",
       "\n",
       "    .dataframe tbody tr th {\n",
       "        vertical-align: top;\n",
       "    }\n",
       "\n",
       "    .dataframe thead th {\n",
       "        text-align: right;\n",
       "    }\n",
       "</style>\n",
       "<table border=\"1\" class=\"dataframe\">\n",
       "  <thead>\n",
       "    <tr style=\"text-align: right;\">\n",
       "      <th></th>\n",
       "      <th>Unnamed: 0</th>\n",
       "      <th>headline</th>\n",
       "      <th>url</th>\n",
       "      <th>publisher</th>\n",
       "      <th>date</th>\n",
       "      <th>stock</th>\n",
       "    </tr>\n",
       "  </thead>\n",
       "  <tbody>\n",
       "    <tr>\n",
       "      <th>0</th>\n",
       "      <td>0</td>\n",
       "      <td>Stocks That Hit 52-Week Highs On Friday</td>\n",
       "      <td>https://www.benzinga.com/news/20/06/16190091/s...</td>\n",
       "      <td>Benzinga Insights</td>\n",
       "      <td>2020-06-05 10:30:54-04:00</td>\n",
       "      <td>A</td>\n",
       "    </tr>\n",
       "    <tr>\n",
       "      <th>1</th>\n",
       "      <td>1</td>\n",
       "      <td>Stocks That Hit 52-Week Highs On Wednesday</td>\n",
       "      <td>https://www.benzinga.com/news/20/06/16170189/s...</td>\n",
       "      <td>Benzinga Insights</td>\n",
       "      <td>2020-06-03 10:45:20-04:00</td>\n",
       "      <td>A</td>\n",
       "    </tr>\n",
       "    <tr>\n",
       "      <th>2</th>\n",
       "      <td>2</td>\n",
       "      <td>71 Biggest Movers From Friday</td>\n",
       "      <td>https://www.benzinga.com/news/20/05/16103463/7...</td>\n",
       "      <td>Lisa Levin</td>\n",
       "      <td>2020-05-26 04:30:07-04:00</td>\n",
       "      <td>A</td>\n",
       "    </tr>\n",
       "    <tr>\n",
       "      <th>3</th>\n",
       "      <td>3</td>\n",
       "      <td>46 Stocks Moving In Friday's Mid-Day Session</td>\n",
       "      <td>https://www.benzinga.com/news/20/05/16095921/4...</td>\n",
       "      <td>Lisa Levin</td>\n",
       "      <td>2020-05-22 12:45:06-04:00</td>\n",
       "      <td>A</td>\n",
       "    </tr>\n",
       "    <tr>\n",
       "      <th>4</th>\n",
       "      <td>4</td>\n",
       "      <td>B of A Securities Maintains Neutral on Agilent...</td>\n",
       "      <td>https://www.benzinga.com/news/20/05/16095304/b...</td>\n",
       "      <td>Vick Meyer</td>\n",
       "      <td>2020-05-22 11:38:59-04:00</td>\n",
       "      <td>A</td>\n",
       "    </tr>\n",
       "  </tbody>\n",
       "</table>\n",
       "</div>"
      ],
      "text/plain": [
       "   Unnamed: 0                                           headline  \\\n",
       "0           0            Stocks That Hit 52-Week Highs On Friday   \n",
       "1           1         Stocks That Hit 52-Week Highs On Wednesday   \n",
       "2           2                      71 Biggest Movers From Friday   \n",
       "3           3       46 Stocks Moving In Friday's Mid-Day Session   \n",
       "4           4  B of A Securities Maintains Neutral on Agilent...   \n",
       "\n",
       "                                                 url          publisher  \\\n",
       "0  https://www.benzinga.com/news/20/06/16190091/s...  Benzinga Insights   \n",
       "1  https://www.benzinga.com/news/20/06/16170189/s...  Benzinga Insights   \n",
       "2  https://www.benzinga.com/news/20/05/16103463/7...         Lisa Levin   \n",
       "3  https://www.benzinga.com/news/20/05/16095921/4...         Lisa Levin   \n",
       "4  https://www.benzinga.com/news/20/05/16095304/b...         Vick Meyer   \n",
       "\n",
       "                        date stock  \n",
       "0  2020-06-05 10:30:54-04:00     A  \n",
       "1  2020-06-03 10:45:20-04:00     A  \n",
       "2  2020-05-26 04:30:07-04:00     A  \n",
       "3  2020-05-22 12:45:06-04:00     A  \n",
       "4  2020-05-22 11:38:59-04:00     A  "
      ]
     },
     "execution_count": 9,
     "metadata": {},
     "output_type": "execute_result"
    }
   ],
   "source": [
    "news_data.head()"
   ]
  },
  {
   "cell_type": "code",
   "execution_count": 10,
   "metadata": {},
   "outputs": [
    {
     "data": {
      "text/plain": [
       "(45428, 10)"
      ]
     },
     "execution_count": 10,
     "metadata": {},
     "output_type": "execute_result"
    }
   ],
   "source": [
    "stock_data.shape"
   ]
  },
  {
   "cell_type": "code",
   "execution_count": 11,
   "metadata": {},
   "outputs": [
    {
     "data": {
      "text/plain": [
       "(1407328, 6)"
      ]
     },
     "execution_count": 11,
     "metadata": {},
     "output_type": "execute_result"
    }
   ],
   "source": [
    "news_data.shape"
   ]
  },
  {
   "cell_type": "code",
   "execution_count": 12,
   "metadata": {},
   "outputs": [
    {
     "name": "stdout",
     "output_type": "stream",
     "text": [
      "<class 'pandas.core.frame.DataFrame'>\n",
      "Index: 45428 entries, 0 to 45427\n",
      "Data columns (total 10 columns):\n",
      " #   Column        Non-Null Count  Dtype         \n",
      "---  ------        --------------  -----         \n",
      " 0   Date          45428 non-null  datetime64[ns]\n",
      " 1   Open          45428 non-null  float64       \n",
      " 2   High          45428 non-null  float64       \n",
      " 3   Low           45428 non-null  float64       \n",
      " 4   Close         45428 non-null  float64       \n",
      " 5   Adj Close     45428 non-null  float64       \n",
      " 6   Volume        45428 non-null  int64         \n",
      " 7   Dividends     45428 non-null  float64       \n",
      " 8   Stock Splits  45428 non-null  float64       \n",
      " 9   Stock         45428 non-null  object        \n",
      "dtypes: datetime64[ns](1), float64(7), int64(1), object(1)\n",
      "memory usage: 3.8+ MB\n"
     ]
    }
   ],
   "source": [
    "stock_data.info()"
   ]
  },
  {
   "cell_type": "code",
   "execution_count": 13,
   "metadata": {},
   "outputs": [
    {
     "name": "stdout",
     "output_type": "stream",
     "text": [
      "<class 'pandas.core.frame.DataFrame'>\n",
      "RangeIndex: 1407328 entries, 0 to 1407327\n",
      "Data columns (total 6 columns):\n",
      " #   Column      Non-Null Count    Dtype \n",
      "---  ------      --------------    ----- \n",
      " 0   Unnamed: 0  1407328 non-null  int64 \n",
      " 1   headline    1407328 non-null  object\n",
      " 2   url         1407328 non-null  object\n",
      " 3   publisher   1407328 non-null  object\n",
      " 4   date        1407328 non-null  object\n",
      " 5   stock       1407328 non-null  object\n",
      "dtypes: int64(1), object(5)\n",
      "memory usage: 64.4+ MB\n"
     ]
    }
   ],
   "source": [
    "news_data.info()"
   ]
  },
  {
   "cell_type": "code",
   "execution_count": 14,
   "metadata": {},
   "outputs": [
    {
     "data": {
      "text/html": [
       "<div>\n",
       "<style scoped>\n",
       "    .dataframe tbody tr th:only-of-type {\n",
       "        vertical-align: middle;\n",
       "    }\n",
       "\n",
       "    .dataframe tbody tr th {\n",
       "        vertical-align: top;\n",
       "    }\n",
       "\n",
       "    .dataframe thead th {\n",
       "        text-align: right;\n",
       "    }\n",
       "</style>\n",
       "<table border=\"1\" class=\"dataframe\">\n",
       "  <thead>\n",
       "    <tr style=\"text-align: right;\">\n",
       "      <th></th>\n",
       "      <th>Date</th>\n",
       "      <th>Open</th>\n",
       "      <th>High</th>\n",
       "      <th>Low</th>\n",
       "      <th>Close</th>\n",
       "      <th>Adj Close</th>\n",
       "      <th>Volume</th>\n",
       "      <th>Dividends</th>\n",
       "      <th>Stock Splits</th>\n",
       "    </tr>\n",
       "  </thead>\n",
       "  <tbody>\n",
       "    <tr>\n",
       "      <th>count</th>\n",
       "      <td>45428</td>\n",
       "      <td>45428.000000</td>\n",
       "      <td>45428.000000</td>\n",
       "      <td>45428.000000</td>\n",
       "      <td>45428.000000</td>\n",
       "      <td>45428.000000</td>\n",
       "      <td>4.542800e+04</td>\n",
       "      <td>45428.000000</td>\n",
       "      <td>45428.000000</td>\n",
       "    </tr>\n",
       "    <tr>\n",
       "      <th>mean</th>\n",
       "      <td>2009-04-26 08:53:21.549704960</td>\n",
       "      <td>46.798370</td>\n",
       "      <td>47.397792</td>\n",
       "      <td>46.190101</td>\n",
       "      <td>46.810590</td>\n",
       "      <td>45.367891</td>\n",
       "      <td>2.177785e+08</td>\n",
       "      <td>0.000847</td>\n",
       "      <td>0.002499</td>\n",
       "    </tr>\n",
       "    <tr>\n",
       "      <th>min</th>\n",
       "      <td>1980-12-12 00:00:00</td>\n",
       "      <td>0.034896</td>\n",
       "      <td>0.035547</td>\n",
       "      <td>0.033333</td>\n",
       "      <td>0.034115</td>\n",
       "      <td>0.031291</td>\n",
       "      <td>0.000000e+00</td>\n",
       "      <td>0.000000</td>\n",
       "      <td>0.000000</td>\n",
       "    </tr>\n",
       "    <tr>\n",
       "      <th>25%</th>\n",
       "      <td>2002-02-25 18:00:00</td>\n",
       "      <td>0.690500</td>\n",
       "      <td>0.708000</td>\n",
       "      <td>0.673541</td>\n",
       "      <td>0.693604</td>\n",
       "      <td>0.585204</td>\n",
       "      <td>4.746455e+07</td>\n",
       "      <td>0.000000</td>\n",
       "      <td>0.000000</td>\n",
       "    </tr>\n",
       "    <tr>\n",
       "      <th>50%</th>\n",
       "      <td>2011-06-20 12:00:00</td>\n",
       "      <td>13.646101</td>\n",
       "      <td>13.827710</td>\n",
       "      <td>13.463250</td>\n",
       "      <td>13.644750</td>\n",
       "      <td>13.076301</td>\n",
       "      <td>9.921200e+07</td>\n",
       "      <td>0.000000</td>\n",
       "      <td>0.000000</td>\n",
       "    </tr>\n",
       "    <tr>\n",
       "      <th>75%</th>\n",
       "      <td>2018-02-15 00:00:00</td>\n",
       "      <td>47.242501</td>\n",
       "      <td>47.720626</td>\n",
       "      <td>46.628125</td>\n",
       "      <td>47.193626</td>\n",
       "      <td>44.768961</td>\n",
       "      <td>2.610595e+08</td>\n",
       "      <td>0.000000</td>\n",
       "      <td>0.000000</td>\n",
       "    </tr>\n",
       "    <tr>\n",
       "      <th>max</th>\n",
       "      <td>2024-07-30 00:00:00</td>\n",
       "      <td>542.349976</td>\n",
       "      <td>542.809998</td>\n",
       "      <td>528.359985</td>\n",
       "      <td>539.909973</td>\n",
       "      <td>539.909973</td>\n",
       "      <td>9.230856e+09</td>\n",
       "      <td>3.080000</td>\n",
       "      <td>20.000000</td>\n",
       "    </tr>\n",
       "    <tr>\n",
       "      <th>std</th>\n",
       "      <td>NaN</td>\n",
       "      <td>78.259474</td>\n",
       "      <td>79.277620</td>\n",
       "      <td>77.218532</td>\n",
       "      <td>78.274673</td>\n",
       "      <td>78.049554</td>\n",
       "      <td>3.076645e+08</td>\n",
       "      <td>0.022527</td>\n",
       "      <td>0.155291</td>\n",
       "    </tr>\n",
       "  </tbody>\n",
       "</table>\n",
       "</div>"
      ],
      "text/plain": [
       "                                Date          Open          High  \\\n",
       "count                          45428  45428.000000  45428.000000   \n",
       "mean   2009-04-26 08:53:21.549704960     46.798370     47.397792   \n",
       "min              1980-12-12 00:00:00      0.034896      0.035547   \n",
       "25%              2002-02-25 18:00:00      0.690500      0.708000   \n",
       "50%              2011-06-20 12:00:00     13.646101     13.827710   \n",
       "75%              2018-02-15 00:00:00     47.242501     47.720626   \n",
       "max              2024-07-30 00:00:00    542.349976    542.809998   \n",
       "std                              NaN     78.259474     79.277620   \n",
       "\n",
       "                Low         Close     Adj Close        Volume     Dividends  \\\n",
       "count  45428.000000  45428.000000  45428.000000  4.542800e+04  45428.000000   \n",
       "mean      46.190101     46.810590     45.367891  2.177785e+08      0.000847   \n",
       "min        0.033333      0.034115      0.031291  0.000000e+00      0.000000   \n",
       "25%        0.673541      0.693604      0.585204  4.746455e+07      0.000000   \n",
       "50%       13.463250     13.644750     13.076301  9.921200e+07      0.000000   \n",
       "75%       46.628125     47.193626     44.768961  2.610595e+08      0.000000   \n",
       "max      528.359985    539.909973    539.909973  9.230856e+09      3.080000   \n",
       "std       77.218532     78.274673     78.049554  3.076645e+08      0.022527   \n",
       "\n",
       "       Stock Splits  \n",
       "count  45428.000000  \n",
       "mean       0.002499  \n",
       "min        0.000000  \n",
       "25%        0.000000  \n",
       "50%        0.000000  \n",
       "75%        0.000000  \n",
       "max       20.000000  \n",
       "std        0.155291  "
      ]
     },
     "execution_count": 14,
     "metadata": {},
     "output_type": "execute_result"
    }
   ],
   "source": [
    "stock_data.describe()"
   ]
  },
  {
   "cell_type": "code",
   "execution_count": 15,
   "metadata": {},
   "outputs": [
    {
     "name": "stdout",
     "output_type": "stream",
     "text": [
      "Start date of news_data: 2009-02-14 00:00:00\n",
      "End date of news_data: 2020-06-11 17:12:35-04:00\n",
      "Start date of stock_data: 1980-12-12 00:00:00\n",
      "End date of stock_data: 2024-07-30 00:00:00\n"
     ]
    }
   ],
   "source": [
    "# start and end date for news data \n",
    "print(f\"Start date of news_data: {news_data['date'].min()}\")\n",
    "print(f\"End date of news_data: {news_data['date'].max()}\")\n",
    "\n",
    "# start and end date for stock data \n",
    "print(f\"Start date of stock_data: {stock_data['Date'].min()}\")\n",
    "print(f\"End date of stock_data: {stock_data['Date'].max()}\")"
   ]
  },
  {
   "cell_type": "markdown",
   "metadata": {},
   "source": [
    "### stock and news timeline "
   ]
  },
  {
   "cell_type": "code",
   "execution_count": 16,
   "metadata": {},
   "outputs": [],
   "source": [
    "# Ensure date columns are in datetime format Calculate daily returns\n",
    "#stock_data['Date'] = pd.to_datetime(stock_data['Date']).dt.date\n",
    "news_data['date'] = pd.to_datetime(news_data['date'], utc=True, format='mixed')"
   ]
  },
  {
   "cell_type": "code",
   "execution_count": 17,
   "metadata": {},
   "outputs": [
    {
     "data": {
      "image/png": "[encoded data removed]",
      "text/plain": [
       "<Figure size 1200x600 with 1 Axes>"
      ]
     },
     "metadata": {},
     "output_type": "display_data"
    }
   ],
   "source": [
    "#  monthly frequency of the number of records \n",
    "stock = stock_data.resample('ME', on='Date').size()\n",
    "news = news_data.resample('ME', on='date').size()\n",
    "\n",
    "plt.figure(figsize=(12, 6))\n",
    "stock.plot(label='Stock Records', alpha=0.7)\n",
    "news.plot(label='News Records', alpha=0.7)\n",
    "plt.title('Monthly Frequency of Stock and News Records Timeline')\n",
    "plt.xlabel('Date')\n",
    "plt.ylabel('Count')\n",
    "plt.legend()\n",
    "plt.show()"
   ]
  },
  {
   "cell_type": "code",
   "execution_count": null,
   "metadata": {},
   "outputs": [],
   "source": []
  }
 ],
 "metadata": {
  "kernelspec": {
   "display_name": "myvenv",
   "language": "python",
   "name": "python3"
  },
  "language_info": {
   "codemirror_mode": {
    "name": "ipython",
    "version": 3
   },
   "file_extension": ".py",
   "mimetype": "text/x-python",
   "name": "python",
   "nbconvert_exporter": "python",
   "pygments_lexer": "ipython3",
   "version": "3.11.1"
  }
 },
 "nbformat": 4,
 "nbformat_minor": 2
}
