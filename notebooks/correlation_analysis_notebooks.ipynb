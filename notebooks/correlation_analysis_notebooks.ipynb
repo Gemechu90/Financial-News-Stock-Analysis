{
 "cells": [
  {
   "cell_type": "markdown",
   "metadata": {},
   "source": [
    "## Financial News and Stock Price Integration\n",
    " This notebook shows the relationship between financial news data and stock market returns through Natural Language Processing (NLP) techniques\n",
    "\n",
    "Tasks: \n",
    "    1. Date Alignment: aligning the stock data with news data based on dates to correlate market movements with news sentiment.\n",
    "    2. Sentiment Analysis: Conducting sentiment analysis on news headlines to quantify the tone of each article (positive, negative, neutral).\n",
    "    \n",
    "    Analysis:\n",
    "        - Calculate Daily Stock Returns: Computing the percentage change in daily closing prices to represent stock  movements.\n",
    "        Correlation Analysis: Using statistical methods to test the correlation between daily news sentiment scores and stock returns."
   ]
  },
  {
   "cell_type": "code",
   "execution_count": 1,
   "metadata": {},
   "outputs": [],
   "source": [
    "import sys\n",
    "import os"
   ]
  },
  {
   "cell_type": "code",
   "execution_count": 2,
   "metadata": {},
   "outputs": [],
   "source": [
    "sys.path.append(os.path.abspath(os.path.join('..')))"
   ]
  },
  {
   "cell_type": "code",
   "execution_count": 3,
   "metadata": {},
   "outputs": [
    {
     "ename": "ModuleNotFoundError",
     "evalue": "No module named 'scripts.sentiment_correlation_analysis'",
     "output_type": "error",
     "traceback": [
      "\u001b[1;31m---------------------------------------------------------------------------\u001b[0m",
      "\u001b[1;31mModuleNotFoundError\u001b[0m                       Traceback (most recent call last)",
      "Cell \u001b[1;32mIn[3], line 1\u001b[0m\n\u001b[1;32m----> 1\u001b[0m \u001b[38;5;28;01mfrom\u001b[39;00m \u001b[38;5;21;01mscripts\u001b[39;00m\u001b[38;5;21;01m.\u001b[39;00m\u001b[38;5;21;01msentiment_correlation_analysis\u001b[39;00m \u001b[38;5;28;01mimport\u001b[39;00m \u001b[38;5;241m*\u001b[39m\n",
      "\u001b[1;31mModuleNotFoundError\u001b[0m: No module named 'scripts.sentiment_correlation_analysis'"
     ]
    }
   ],
   "source": [
    "from scripts.sentiment_correlation_analysis import *"
   ]
  }
 ],
 "metadata": {
  "kernelspec": {
   "display_name": "myvenv",
   "language": "python",
   "name": "python3"
  },
  "language_info": {
   "codemirror_mode": {
    "name": "ipython",
    "version": 3
   },
   "file_extension": ".py",
   "mimetype": "text/x-python",
   "name": "python",
   "nbconvert_exporter": "python",
   "pygments_lexer": "ipython3",
   "version": "3.11.1"
  }
 },
 "nbformat": 4,
 "nbformat_minor": 2
}
